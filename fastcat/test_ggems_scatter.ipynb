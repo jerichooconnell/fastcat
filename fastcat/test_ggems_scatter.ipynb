{
 "cells": [
  {
   "cell_type": "code",
   "execution_count": 3,
   "metadata": {},
   "outputs": [
    {
     "name": "stdout",
     "output_type": "stream",
     "text": [
      "[2023-11-21 11:11:32,974] {pyplot.py:414} DEBUG - Loaded backend module://matplotlib_inline.backend_inline version unknown.\n",
      "[2023-11-21 11:11:33,067] {pyplot.py:414} DEBUG - Loaded backend QtAgg version 5.15.7.\n",
      "%pylab is deprecated, use %matplotlib inline and import the required libraries.\n",
      "Populating the interactive namespace from numpy and matplotlib\n"
     ]
    }
   ],
   "source": [
    "%pylab qt\n",
    "%load_ext autoreload\n",
    "%autoreload 2"
   ]
  },
  {
   "cell_type": "code",
   "execution_count": 4,
   "metadata": {},
   "outputs": [],
   "source": [
    "import fastcat as fc"
   ]
  },
  {
   "cell_type": "code",
   "execution_count": 5,
   "metadata": {},
   "outputs": [
    {
     "name": "stdout",
     "output_type": "stream",
     "text": [
      "[2023-11-21 11:11:34,678] {utils.py:267} INFO - Loading density data from file\n",
      "[2023-11-21 11:11:34,682] {utils.py:357} INFO -     Saved Air atten to file in data/mu/Air.csv\n",
      "[2023-11-21 11:11:34,683] {utils.py:357} INFO -     Saved polyurethane atten to file in data/mu/polyurethane.csv\n",
      "[2023-11-21 11:11:34,684] {utils.py:357} INFO -     Saved teflon atten to file in data/mu/teflon.csv\n",
      "[2023-11-21 11:11:34,685] {utils.py:357} INFO -     Saved pmp atten to file in data/mu/pmp.csv\n",
      "[2023-11-21 11:11:34,686] {utils.py:357} INFO -     Saved bone50 atten to file in data/mu/bone50.csv\n",
      "[2023-11-21 11:11:34,687] {utils.py:357} INFO -     Saved ldpe atten to file in data/mu/ldpe.csv\n",
      "[2023-11-21 11:11:34,688] {utils.py:357} INFO -     Saved polystyrene atten to file in data/mu/polystyrene.csv\n",
      "[2023-11-21 11:11:34,689] {utils.py:357} INFO -     Saved acrylic atten to file in data/mu/acrylic.csv\n",
      "[2023-11-21 11:11:34,690] {utils.py:357} INFO -     Saved bone20 atten to file in data/mu/bone20.csv\n",
      "[2023-11-21 11:11:34,691] {utils.py:357} INFO -     Saved pom atten to file in data/mu/pom.csv\n",
      "[2023-11-21 11:11:34,691] {utils.py:357} INFO -     Saved Tungsten atten to file in data/mu/Tungsten.csv\n",
      "[2023-11-21 11:11:34,692] {utils.py:357} INFO -     Saved GOS atten to file in data/mu/GOS.csv\n",
      "[2023-11-21 11:11:34,693] {utils.py:357} INFO -     Saved CsI atten to file in data/mu/CsI.csv\n"
     ]
    }
   ],
   "source": [
    "# Read the mhd file from data\n",
    "mhd_file = '/home/jericho/1-Workspace/fastcat_gate/Catphan604.mhd'\n",
    "material_file = '/home/jericho/1-Workspace/fastcat_gate/Materials.txt'\n",
    "spectrum_file = '/home/jericho/1-Workspace/opengate_ggems_comparison/water_cylinder/data/spectrum_120kVp_2mmAl.dat'\n",
    "range_file = '/home/jericho/1-Workspace/fastcat_gate/Catphan604_Range.txt'\n",
    "\n",
    "nparticles = float(1000)\n",
    "out = 'out'\n",
    "\n",
    "s = fc.Spectrum()\n",
    "s.load(spectrum_file=spectrum_file) \n",
    "spectrum = spectrum_file\n",
    "s_max= s.x.max()\n",
    "\n",
    "\n",
    "Catphan604_phantom = fc.utils.get_phantom_from_mhd(mhd_file,range_file,material_file)\n"
   ]
  },
  {
   "cell_type": "code",
   "execution_count": 6,
   "metadata": {},
   "outputs": [],
   "source": [
    "from fastcat.ggems_scatter import save_ggems_simulation_parameters"
   ]
  },
  {
   "cell_type": "code",
   "execution_count": 22,
   "metadata": {},
   "outputs": [
    {
     "name": "stdout",
     "output_type": "stream",
     "text": [
      "Data to be saved: {'detector_material': 'CsI', 'nparticles': 1000.0, 'spectrum': '/home/jericho/1-Workspace/opengate_ggems_comparison/water_cylinder/data/spectrum_120kVp_2mmAl.dat', 's_max': 121.0, 'edep_detector': False, 'dli': False, 'kwargs': {}}\n",
      "Done saving simulation parameters tohome/jericho/1-Workspace/opengate_ggems_comparison/fastcat_scatter_test/test/ggems_1e03_121kVp.pkl\n"
     ]
    }
   ],
   "source": [
    "save_ggems_simulation_parameters(Catphan604_phantom, spectrum=spectrum, \n",
    "                                s_max=s_max, detector_material='CsI',\n",
    "                                nparticles=nparticles, output_dir='/home/jericho/1-Workspace/opengate_ggems_comparison/fastcat_scatter_test/test')"
   ]
  },
  {
   "cell_type": "code",
   "execution_count": null,
   "metadata": {},
   "outputs": [],
   "source": []
  }
 ],
 "metadata": {
  "kernelspec": {
   "display_name": "tigre_fastcat",
   "language": "python",
   "name": "python3"
  },
  "language_info": {
   "codemirror_mode": {
    "name": "ipython",
    "version": 3
   },
   "file_extension": ".py",
   "mimetype": "text/x-python",
   "name": "python",
   "nbconvert_exporter": "python",
   "pygments_lexer": "ipython3",
   "version": "3.11.5"
  }
 },
 "nbformat": 4,
 "nbformat_minor": 2
}
