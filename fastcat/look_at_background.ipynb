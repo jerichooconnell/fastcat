{
 "cells": [
  {
   "cell_type": "code",
   "execution_count": 5,
   "metadata": {},
   "outputs": [],
   "source": [
    "%matplotlib qt\n",
    "\n",
    "import numpy as np\n",
    "import matplotlib.pyplot as plt\n",
    "import mpl_interactions as pli\n",
    "import glob\n",
    "import fastcat as fc"
   ]
  },
  {
   "cell_type": "code",
   "execution_count": 7,
   "metadata": {},
   "outputs": [],
   "source": [
    "ggems_scatter_files = glob.glob(\n",
    "    '/home/jericho/1-Workspace/opengate_ggems_comparison/2-fastcat_scatter_XCAT/test/out/ggems_3e09_121kVp_*scatter.mhd'\n",
    ")\n",
    "ggems_primary_files = glob.glob(\n",
    "    '/home/jericho/1-Workspace/opengate_ggems_comparison/2-fastcat_scatter_XCAT/test/out/ggems_3e09_121kVp_*[!scatter].mhd'\n",
    ")\n",
    "\n",
    "ggems_scatter_files.sort()\n",
    "ggems_primary_files.sort()\n",
    "\n",
    "ggems_primary_projections = []\n",
    "ggems_scatter_projections = []\n",
    "\n",
    "for ggems_scatter_file, ggems_primary_file in zip(ggems_scatter_files, ggems_primary_files):\n",
    "    ggems_prmiary, b, c = fc.utils.read_mhd(ggems_primary_file)\n",
    "    ggems_scatter, b, c = fc.utils.read_mhd(ggems_scatter_file)\n",
    "\n",
    "    ggems_primary_projections.append(ggems_prmiary.squeeze())\n",
    "    ggems_scatter_projections.append(ggems_scatter.squeeze())"
   ]
  },
  {
   "cell_type": "code",
   "execution_count": 13,
   "metadata": {},
   "outputs": [
    {
     "data": {
      "text/plain": [
       "<matplotlib.image.AxesImage at 0x7fe774a79a10>"
      ]
     },
     "execution_count": 13,
     "metadata": {},
     "output_type": "execute_result"
    }
   ],
   "source": [
    "plt.figure()\n",
    "plt.imshow(ggems_primary_projections[23])"
   ]
  },
  {
   "cell_type": "code",
   "execution_count": 40,
   "metadata": {},
   "outputs": [],
   "source": [
    "# Make an array that is the radial distance from the center of the image\n",
    "def radial_distance(image,pixel_size=0.784):\n",
    "    x, y = np.meshgrid(np.arange(image.shape[0]), np.arange(image.shape[1]))\n",
    "    x = x - image.shape[0] / 2\n",
    "    y = y - image.shape[1] / 2\n",
    "    x = x * pixel_size\n",
    "    y = y * pixel_size\n",
    "    return np.sqrt(x**2 + y**2)\n",
    "\n",
    "# Make an array measuring the intensity in the projection as a function of radial distance\n",
    "def r_squared_falloff(image,SAD):\n",
    "    r = radial_distance(image)\n",
    "    return (SAD / (r**2 + SAD**2)**0.5)**3"
   ]
  },
  {
   "cell_type": "code",
   "execution_count": 42,
   "metadata": {},
   "outputs": [
    {
     "data": {
      "text/plain": [
       "[<matplotlib.lines.Line2D at 0x7fe7719c4d90>]"
      ]
     },
     "execution_count": 42,
     "metadata": {},
     "output_type": "execute_result"
    }
   ],
   "source": [
    "# Compare the last twenty columns of the images in a plot\n",
    "proj_only = np.array(ggems_primary_projections) - np.array(ggems_scatter_projections)\n",
    "\n",
    "plt.figure()\n",
    "plt.plot(ggems_primary_projections[23][:-40,-20:].mean(axis=1))\n",
    "\n",
    "r_sq = r_squared_falloff(ggems_primary_projections[23], 1510)\n",
    "plt.plot(r_sq[:-40,-20:].mean(axis=1) * np.mean(ggems_primary_projections[23][:-40,-20:])/np.mean(r_sq[:-40,-20:]))"
   ]
  },
  {
   "cell_type": "code",
   "execution_count": 20,
   "metadata": {},
   "outputs": [
    {
     "data": {
      "text/plain": [
       "<matplotlib.image.AxesImage at 0x7fe773639c10>"
      ]
     },
     "execution_count": 20,
     "metadata": {},
     "output_type": "execute_result"
    }
   ],
   "source": [
    "plt.figure()\n",
    "plt.imshow(r_sq)"
   ]
  },
  {
   "cell_type": "code",
   "execution_count": null,
   "metadata": {},
   "outputs": [],
   "source": []
  }
 ],
 "metadata": {
  "kernelspec": {
   "display_name": "tigre_fastcat",
   "language": "python",
   "name": "python3"
  },
  "language_info": {
   "codemirror_mode": {
    "name": "ipython",
    "version": 3
   },
   "file_extension": ".py",
   "mimetype": "text/x-python",
   "name": "python",
   "nbconvert_exporter": "python",
   "pygments_lexer": "ipython3",
   "version": "3.11.5"
  }
 },
 "nbformat": 4,
 "nbformat_minor": 2
}
